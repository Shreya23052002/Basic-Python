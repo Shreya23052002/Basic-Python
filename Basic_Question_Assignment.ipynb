{
  "nbformat": 4,
  "nbformat_minor": 0,
  "metadata": {
    "colab": {
      "provenance": []
    },
    "kernelspec": {
      "name": "python3",
      "display_name": "Python 3"
    },
    "language_info": {
      "name": "python"
    }
  },
  "cells": [
    {
      "cell_type": "markdown",
      "source": [
        "# Python Basic Assignment Question\n"
      ],
      "metadata": {
        "id": "s1BbZK1SUIA8"
      }
    },
    {
      "cell_type": "markdown",
      "source": [
        "Question no. 1\n",
        "What is Python, and why is it popular\u001a"
      ],
      "metadata": {
        "id": "NBwlEoLHUQnA"
      }
    },
    {
      "cell_type": "markdown",
      "source": [
        "Answer : Python is a high-level, general-purpose programming language known for its readability, simplicity, and versatility.\n",
        "Here are a few reasons why Python is so popular:\n",
        "1. Ease of Learning and Use\n",
        "2. Wide Range of Applications\n",
        "3. Extensive Libraries and Frameworks\n",
        "4. Flexibility and Scalability\n",
        "5. Cross-Platform Compatibility"
      ],
      "metadata": {
        "id": "micn3vPWUgAl"
      }
    },
    {
      "cell_type": "markdown",
      "source": [
        "Question no. 2 What is an interpreter in Python\u001a"
      ],
      "metadata": {
        "id": "QnrAc3Tdf-6O"
      }
    },
    {
      "cell_type": "markdown",
      "source": [
        "Answer : An interpreter in Python is a software component that executes Python code line by line, rather than compiling the entire code to machine language in one go, as a compiler would. When you write Python code, the interpreter reads the code, translates it into intermediate bytecode, and then executes it on the Python virtual machine (PVM).\n",
        "Key Roles of the Python Interpreter:\n",
        "1. Translates Code Line-by-Line\n",
        "2. Dynamically Executes Code\n",
        "3. Error Handling"
      ],
      "metadata": {
        "id": "MhK6_9imgHZK"
      }
    },
    {
      "cell_type": "markdown",
      "source": [
        "Question no. 3 What are pre-defined keywords in Python\u001a"
      ],
      "metadata": {
        "id": "2vX5NnP-gmxs"
      }
    },
    {
      "cell_type": "markdown",
      "source": [
        "Answer : Keywords in python are reserved words that have special meaning and serve specific purpose in the language syntax.\n",
        "There are 35 keyword in python."
      ],
      "metadata": {
        "id": "2BOwxXcVhOjA"
      }
    },
    {
      "cell_type": "markdown",
      "source": [
        "Question no. 4 Can keywords be used as variable names\u001a"
      ],
      "metadata": {
        "id": "xi9VrBZCic8E"
      }
    },
    {
      "cell_type": "markdown",
      "source": [
        "Answer : No, keywords in Python cannot be used as variable names or any other identifiers (like function names or class names). Keywords are reserved by the Python language because they have special meanings that define the syntax and structure of the code. Using them as variable names would cause a syntax error."
      ],
      "metadata": {
        "id": "sZ3MpgavjBsC"
      }
    },
    {
      "cell_type": "markdown",
      "source": [
        "Question no. 5 What is mutability in Python\u001a"
      ],
      "metadata": {
        "id": "LkpxRMvWjLUH"
      }
    },
    {
      "cell_type": "markdown",
      "source": [
        "Answer : Mutability in Python refers to the ability of an object to be changed after it has been created. The concept of mutability is highly significant in python, especially when dealing with data structures. It affect's how data structures behave when they are modified, shared or passed between fuctions.Understanding mutability helps you manage memory efficiently avoid unexpected behaviour and optimize performance."
      ],
      "metadata": {
        "id": "0_m5UPVZjZV_"
      }
    },
    {
      "cell_type": "markdown",
      "source": [
        "Question no. 6 Why are lists mutable, but tuples are immutable\u001a"
      ],
      "metadata": {
        "id": "RzmDavXwnroQ"
      }
    },
    {
      "cell_type": "markdown",
      "source": [
        "Answer : Reasons Why Lists Are Mutable:\n",
        "1. Use Case Flexibility: Lists are designed to handle dynamic data that may need to be modified throughout the program. You can add, remove, or change elements as needed, making them suitable for use cases like:\n",
        "\n",
        "* Storing collections of items that change over time (e.g., appending new elements).\n",
        "* Sorting or reordering elements.\n",
        "* Performing operations that require modifying the structure, such as list slicing, deletion, or extension.\n",
        "2. Efficiency for Data Manipulation: Since lists are meant for frequent modifications, Python allows them to be mutable to make data manipulation easy and efficient. Lists are commonly used when the size of the collection can grow or shrink dynamically, and their mutability supports this flexible nature.\n",
        "Reasons Why Tuples Are Immutable:\n",
        "1. Data Integrity: Tuples are often used when you need to ensure the data remains constant and unchangeable throughout the program. Once a tuple is created, its elements cannot be modified, making it useful for:\n",
        "\n",
        "Fixed collections of items that should not change (e.g., coordinates, configurations).\n",
        "Hashable objects: Tuples can be used as keys in dictionaries (unlike lists) because they are immutable, ensuring that their contents remain stable and can be used in sets or as dictionary keys.\n",
        "2. Memory Efficiency: Tuples tend to be more memory-efficient compared to lists because they are immutable. Python can optimize the storage of immutable objects more efficiently. This makes tuples faster to access and preferable when the collection of elements is fixed.\n",
        "\n",
        "3. Performance Optimization: Since tuples cannot be changed, Python can optimize operations with them, which can result in faster execution for certain tasks. Tuples are often used when performance is critical, and the data set will not change.\n",
        "\n",
        "4. Immutability for Function Safety: Tuples are often used to represent fixed collections of data that should not be changed, particularly when passing data to functions. By using immutable tuples, you can ensure that no function can modify the data, providing added safety against unintended side effects."
      ],
      "metadata": {
        "id": "nsRU8-CAny3D"
      }
    },
    {
      "cell_type": "markdown",
      "source": [
        "Question no. 7  What is the difference between “==” and “is” operators in Python\u001a"
      ],
      "metadata": {
        "id": "IC_D6SrlpaG_"
      }
    },
    {
      "cell_type": "markdown",
      "source": [
        "Answer :\n",
        "1. == (Equality Operator):\n",
        "The == operator is used to compare the values of two objects, checking if they are equal.\n",
        "2. 2. is (Identity Operator):\n",
        "The is operator checks if two objects refer to the same memory location, meaning it checks object identity."
      ],
      "metadata": {
        "id": "6KHBz3hAvMEY"
      }
    },
    {
      "cell_type": "markdown",
      "source": [
        "Question no. 8 What are logical operators in Python\u001a"
      ],
      "metadata": {
        "id": "QmnudP-QvUO9"
      }
    },
    {
      "cell_type": "markdown",
      "source": [
        "Answer : Logical operators in Python are used to combine conditional statements or to evaluate multiple expressions that result in True or False. They help control the flow of logic by evaluating conditions and determining the overall outcome of a complex expression.\n",
        "There are 3 main logical oprators\n",
        "1. AND oprators\n",
        "2. OR operators\n",
        "3. NOT oprators"
      ],
      "metadata": {
        "id": "gL2440d6vcfx"
      }
    },
    {
      "cell_type": "markdown",
      "source": [
        "Question no. 9 What is type casting in Python\u001a"
      ],
      "metadata": {
        "id": "4d4b1QKZwD3n"
      }
    },
    {
      "cell_type": "markdown",
      "source": [
        "Answer : Type casting in Python refers to the process of converting one data type to another. It allows you to explicitly change the type of a variable or value in situations where a conversion is needed. Python supports two types of type casting:\n",
        "\n",
        "1. Implicit Type Casting (Automatic)\n",
        "2. Explicit Type Casting (Manual)"
      ],
      "metadata": {
        "id": "9OjIhadGwK37"
      }
    },
    {
      "cell_type": "markdown",
      "source": [
        "Question no. 10 What is the difference between implicit and explicit type casting\u001a"
      ],
      "metadata": {
        "id": "aeQyj1NQwohu"
      }
    },
    {
      "cell_type": "markdown",
      "source": [
        "Answer :\n",
        "1. Implicit Type Casting (Automatic)\n",
        "Python automatically converts one data type to another when it makes sense to do so. This usually happens during operations between different data types (e.g., integers and floats), and Python handles the conversion internally.\n",
        "This is done without any explicit instruction from the programmer, ensuring that no information is lost during the conversion.\n",
        "2. Explicit Type Casting (Manual)\n",
        "Explicit type casting (or type conversion) is done by the programmer using Python's built-in functions to manually convert data from one type to another.\n"
      ],
      "metadata": {
        "id": "ErOApnYHwvSe"
      }
    },
    {
      "cell_type": "markdown",
      "source": [
        "Question no. 11 What is the purpose of conditional statements in Python\u001a"
      ],
      "metadata": {
        "id": "i9FbJNpu0V6_"
      }
    },
    {
      "cell_type": "markdown",
      "source": [
        "Answer : Conditional statements in Python are used to make decisions based on specific conditions. They allow a program to execute different blocks of code depending on whether certain conditions are True or False.\n",
        "Purpose of Conditional Statements:\n",
        "1. Decision Making\n",
        "2. Controlling Flow\n",
        "3. Dynamic Behavior\n",
        "4. Error Handling and Validation"
      ],
      "metadata": {
        "id": "mKQLoRj_0exY"
      }
    },
    {
      "cell_type": "markdown",
      "source": [
        "Question no. 12  How does the elif statement work\u001a"
      ],
      "metadata": {
        "id": "ZaL-9oaQ-RjK"
      }
    },
    {
      "cell_type": "markdown",
      "source": [
        "Answer : The elif statement in Python stands for \"else if\" and is used to handle multiple conditions in a sequence. It allows you to check additional conditions if the initial if condition is False. The elif statement is executed only if the previous if (or another elif) condition evaluates to False. You can use as many elif statements as needed, and Python will evaluate them in order until one of the conditions is True.\n",
        "How the elif Statement Works:\n",
        "1. Python first evaluates the if condition.\n",
        "If the if condition is True, the code block associated with if is executed, and the rest of the elif and else conditions are skipped.\n",
        "2. If the if condition is False, Python checks the elif conditions one by one in the order they appear.\n",
        "If any elif condition is True, the corresponding code block is executed, and the remaining elif and else blocks are skipped.\n",
        "3. If none of the if or elif conditions are True, the else block (if provided) is executed as the default case."
      ],
      "metadata": {
        "id": "JwA0d3An-bnw"
      }
    },
    {
      "cell_type": "markdown",
      "source": [
        "Question no. 13 What is the difference between for and while loops\u001a"
      ],
      "metadata": {
        "id": "m1cCffIzD_rj"
      }
    },
    {
      "cell_type": "markdown",
      "source": [
        "Answer : for Loop: Used for iterating over a sequence (like a list, tuple, dictionary, set, or string) or any iterable object. The loop runs for a predetermined number of iterations, and it is especially useful when you know the number of times you want to iterate beforehand.\n",
        "while Loop: Repeats a block of code as long as a specific condition is True. The loop continues running until the condition becomes False. It is useful when you don't know in advance how many iterations you need, and instead, you need to loop based on a condition.\n"
      ],
      "metadata": {
        "id": "krXiZ7r0EEJy"
      }
    },
    {
      "cell_type": "markdown",
      "source": [
        "Question no. 14 Describe a scenario where a while loop is more suitable than a for loop."
      ],
      "metadata": {
        "id": "WIQgPjSpJhwv"
      }
    },
    {
      "cell_type": "markdown",
      "source": [
        "Answer: A while loop is more suitable than a for loop in situations where the number of iterations is not known in advance and you need to loop based on a condition that may change dynamically during the program’s execution.\n",
        "Imagine a scenario where you need to prompt a user to enter a valid password. You want to keep asking the user for input until they provide the correct password, but you don’t know how many attempts it will take. Since the number of attempts is unknown, a while loop is ideal in this situation because you want to continue the loop until the correct condition is met (i.e., the password is correct)."
      ],
      "metadata": {
        "id": "phhSCQCDJviS"
      }
    },
    {
      "cell_type": "code",
      "source": [
        "correct_password = \"OpenAI2025\"\n",
        "user_input = \"\"\n",
        "\n",
        "while user_input != correct_password:\n",
        "    user_input = input(\"Enter the correct password: \")\n",
        "    if user_input == correct_password:\n",
        "        print(\"Access granted.\")\n",
        "    else:\n",
        "        print(\"Incorrect password, try again.\")"
      ],
      "metadata": {
        "colab": {
          "base_uri": "https://localhost:8080/"
        },
        "id": "PU2Q4e7cS8mL",
        "outputId": "4f716975-c65c-4d31-8be4-0b0d0e37ca14"
      },
      "execution_count": null,
      "outputs": [
        {
          "output_type": "stream",
          "name": "stdout",
          "text": [
            "Enter the correct password: open\n",
            "Incorrect password, try again.\n",
            "Enter the correct password: thin\n",
            "Incorrect password, try again.\n",
            "Enter the correct password: wqter\n",
            "Incorrect password, try again.\n",
            "Enter the correct password: OpenAI2025\n",
            "Access granted.\n"
          ]
        }
      ]
    },
    {
      "cell_type": "markdown",
      "source": [
        "# Practical Question"
      ],
      "metadata": {
        "id": "3FV8GuuwTj2v"
      }
    },
    {
      "cell_type": "markdown",
      "source": [
        "Question no. 1 Write a Python program to print \"Hello, World!"
      ],
      "metadata": {
        "id": "AGbUrstgTqxD"
      }
    },
    {
      "cell_type": "code",
      "source": [
        "print(\"Hello, World!\")"
      ],
      "metadata": {
        "colab": {
          "base_uri": "https://localhost:8080/"
        },
        "id": "35nL4jHjUBKn",
        "outputId": "1064eb97-bd8d-4fa4-ca86-73fb23ac953a"
      },
      "execution_count": null,
      "outputs": [
        {
          "output_type": "stream",
          "name": "stdout",
          "text": [
            "Hello, World!\n"
          ]
        }
      ]
    },
    {
      "cell_type": "markdown",
      "source": [
        "Question no. 2  Write a Python program that displays your name and age."
      ],
      "metadata": {
        "id": "lPA47zFKVLQu"
      }
    },
    {
      "cell_type": "code",
      "source": [
        "name = \"Shreya\"\n",
        "Age = \"23\"\n",
        "print (\"My name is\",name)\n",
        "print (\"I am\",Age,\"years old\")\n"
      ],
      "metadata": {
        "colab": {
          "base_uri": "https://localhost:8080/"
        },
        "id": "ef2v_nxjVbwH",
        "outputId": "6d8ee959-52a1-4217-9d3d-722d8a08c800"
      },
      "execution_count": null,
      "outputs": [
        {
          "output_type": "stream",
          "name": "stdout",
          "text": [
            "My name is Shreya\n",
            "I am 23 years old\n"
          ]
        }
      ]
    },
    {
      "cell_type": "markdown",
      "source": [
        "Question no. 3 Write code to print all the pre-defined keywords in Python using the keyword library"
      ],
      "metadata": {
        "id": "zmg7-tcRXFDX"
      }
    },
    {
      "cell_type": "code",
      "source": [
        "import keyword\n",
        "\n",
        "# Get the list of all Python keywords\n",
        "keywords = keyword.kwlist\n",
        "\n",
        "# Print the list of keywords\n",
        "print(\"Pre-defined keywords in Python:\")\n",
        "for kw in keywords:\n",
        "    print(kw, end=\" \")"
      ],
      "metadata": {
        "colab": {
          "base_uri": "https://localhost:8080/"
        },
        "id": "NR7lVJ-QYouq",
        "outputId": "c5b9dcde-2b91-4181-bcf5-987e91bfc63b"
      },
      "execution_count": null,
      "outputs": [
        {
          "output_type": "stream",
          "name": "stdout",
          "text": [
            "Pre-defined keywords in Python:\n",
            "False None True and as assert async await break class continue def del elif else except finally for from global if import in is lambda nonlocal not or pass raise return try while with yield "
          ]
        }
      ]
    },
    {
      "cell_type": "markdown",
      "source": [
        "Question no. 4 Write a program that checks if a given word is a Python keyword"
      ],
      "metadata": {
        "id": "ckxKOdhvaYJ6"
      }
    },
    {
      "cell_type": "code",
      "source": [
        "keyword = [\n",
        "    'False', 'None', 'True', 'and', 'as', 'assert', 'async', 'await', 'break',\n",
        "    'class', 'continue', 'def', 'del', 'elif', 'else', 'except', 'finally', 'for',\n",
        "    'from', 'global', 'if', 'import', 'in', 'is', 'lambda', 'nonlocal', 'not',\n",
        "    'or', 'pass', 'raise', 'return', 'try', 'while', 'with', 'yield'\n",
        "]\n",
        "a = input(\"Enter the keyword:\")\n",
        "if a in keyword:\n",
        "  print(\"Yeah the keyword is correct\")\n",
        "else:\n",
        "  print(\"No it is not a correct keyword\")"
      ],
      "metadata": {
        "colab": {
          "base_uri": "https://localhost:8080/"
        },
        "id": "23ZatNy4cd7a",
        "outputId": "9731673a-828c-436b-fff2-7e15bbaa45d3"
      },
      "execution_count": null,
      "outputs": [
        {
          "output_type": "stream",
          "name": "stdout",
          "text": [
            "Enter the keyword:shreya\n",
            "No it is not a correct keyword\n"
          ]
        }
      ]
    },
    {
      "cell_type": "markdown",
      "source": [
        "Question no. 5 Create a list and tuple in Python, and demonstrate how attempting to change an element works differently\n",
        "for each"
      ],
      "metadata": {
        "id": "PnInU2VVdLKp"
      }
    },
    {
      "cell_type": "markdown",
      "source": [
        "First we are going to see a List!!!!!"
      ],
      "metadata": {
        "id": "5nPD3eujdcQf"
      }
    },
    {
      "cell_type": "code",
      "source": [
        "#First we are going to see a List!!!!!\n",
        "list = [\"Apple\", \"Banana\", \"Grapes\"]\n",
        "print(list)"
      ],
      "metadata": {
        "colab": {
          "base_uri": "https://localhost:8080/"
        },
        "id": "eCffe4s8daI3",
        "outputId": "c567a1f5-6688-4e3b-cad2-6587adb22e92"
      },
      "execution_count": null,
      "outputs": [
        {
          "output_type": "stream",
          "name": "stdout",
          "text": [
            "['Apple', 'Banana', 'Grapes']\n"
          ]
        }
      ]
    },
    {
      "cell_type": "code",
      "source": [
        "list[0]"
      ],
      "metadata": {
        "colab": {
          "base_uri": "https://localhost:8080/",
          "height": 35
        },
        "id": "0ktr427bd5co",
        "outputId": "aa7feee2-45b0-467f-810e-7c3c6d5adb65"
      },
      "execution_count": null,
      "outputs": [
        {
          "output_type": "execute_result",
          "data": {
            "text/plain": [
              "'Apple'"
            ],
            "application/vnd.google.colaboratory.intrinsic+json": {
              "type": "string"
            }
          },
          "metadata": {},
          "execution_count": 26
        }
      ]
    },
    {
      "cell_type": "markdown",
      "source": [
        "After this we will found a new list which will consist Papaya at first index."
      ],
      "metadata": {
        "id": "ptcaeqXjeMxc"
      }
    },
    {
      "cell_type": "code",
      "source": [
        "list[0] = \"Papaya\"\n",
        "print(list)"
      ],
      "metadata": {
        "colab": {
          "base_uri": "https://localhost:8080/"
        },
        "id": "N9qbQCPtd9A2",
        "outputId": "40995ade-2f83-4a3b-b3db-bc787de6fa1e"
      },
      "execution_count": null,
      "outputs": [
        {
          "output_type": "stream",
          "name": "stdout",
          "text": [
            "['Papaya', 'Banana', 'Grapes']\n"
          ]
        }
      ]
    },
    {
      "cell_type": "markdown",
      "source": [
        "Now we will see Tuple:"
      ],
      "metadata": {
        "id": "oaSPcDkeeae0"
      }
    },
    {
      "cell_type": "code",
      "source": [
        "tuple = (\"Shreya\", \"Sakshi\", \"Sameer\")\n",
        "print(tuple)"
      ],
      "metadata": {
        "colab": {
          "base_uri": "https://localhost:8080/"
        },
        "id": "y-l23WjPeg6S",
        "outputId": "516da251-6cc1-464b-c209-57b2729c0462"
      },
      "execution_count": null,
      "outputs": [
        {
          "output_type": "stream",
          "name": "stdout",
          "text": [
            "('Shreya', 'Sakshi', 'Sameer')\n"
          ]
        }
      ]
    },
    {
      "cell_type": "code",
      "source": [
        "tuple[0]"
      ],
      "metadata": {
        "colab": {
          "base_uri": "https://localhost:8080/",
          "height": 35
        },
        "id": "vNbx9oyeez48",
        "outputId": "5bd90615-4a89-4988-d46e-cd1ef1cc5696"
      },
      "execution_count": null,
      "outputs": [
        {
          "output_type": "execute_result",
          "data": {
            "text/plain": [
              "'Shreya'"
            ],
            "application/vnd.google.colaboratory.intrinsic+json": {
              "type": "string"
            }
          },
          "metadata": {},
          "execution_count": 30
        }
      ]
    },
    {
      "cell_type": "code",
      "source": [
        "tuple[0] = \"Vaibhav\"\n",
        "print(tuple)"
      ],
      "metadata": {
        "colab": {
          "base_uri": "https://localhost:8080/",
          "height": 159
        },
        "id": "trqspkTBe7e1",
        "outputId": "943d1d9a-a33a-4378-d622-8e3b76336196"
      },
      "execution_count": null,
      "outputs": [
        {
          "output_type": "error",
          "ename": "TypeError",
          "evalue": "'tuple' object does not support item assignment",
          "traceback": [
            "\u001b[0;31m---------------------------------------------------------------------------\u001b[0m",
            "\u001b[0;31mTypeError\u001b[0m                                 Traceback (most recent call last)",
            "\u001b[0;32m<ipython-input-31-644535f25d9b>\u001b[0m in \u001b[0;36m<cell line: 0>\u001b[0;34m()\u001b[0m\n\u001b[0;32m----> 1\u001b[0;31m \u001b[0mtuple\u001b[0m\u001b[0;34m[\u001b[0m\u001b[0;36m0\u001b[0m\u001b[0;34m]\u001b[0m \u001b[0;34m=\u001b[0m \u001b[0;34m\"Vaibhav\"\u001b[0m\u001b[0;34m\u001b[0m\u001b[0;34m\u001b[0m\u001b[0m\n\u001b[0m\u001b[1;32m      2\u001b[0m \u001b[0mprint\u001b[0m\u001b[0;34m(\u001b[0m\u001b[0mtuple\u001b[0m\u001b[0;34m)\u001b[0m\u001b[0;34m\u001b[0m\u001b[0;34m\u001b[0m\u001b[0m\n",
            "\u001b[0;31mTypeError\u001b[0m: 'tuple' object does not support item assignment"
          ]
        }
      ]
    },
    {
      "cell_type": "markdown",
      "source": [
        "So here it's proove that we can not change the value of tuple after creation!!!!!"
      ],
      "metadata": {
        "id": "IKaIGlZgfE86"
      }
    },
    {
      "cell_type": "markdown",
      "source": [
        "Question no. 6 Write a function to demonstrate the behavior of mutable and immutable arguments."
      ],
      "metadata": {
        "id": "xVm7DWEAfS3P"
      }
    },
    {
      "cell_type": "markdown",
      "source": [
        "Let me explain with the string and list function and which is mutable and which is not!!!!"
      ],
      "metadata": {
        "id": "l7m7nuErgcM-"
      }
    },
    {
      "cell_type": "code",
      "source": [
        "string = \"Shreya\"\n",
        "print(string)"
      ],
      "metadata": {
        "colab": {
          "base_uri": "https://localhost:8080/"
        },
        "id": "VRyBxtL5ocr2",
        "outputId": "fab7d4f2-5de8-4ff2-c49e-4be7b6afee3c"
      },
      "execution_count": null,
      "outputs": [
        {
          "output_type": "stream",
          "name": "stdout",
          "text": [
            "Shreya\n"
          ]
        }
      ]
    },
    {
      "cell_type": "code",
      "source": [
        "string[0]"
      ],
      "metadata": {
        "colab": {
          "base_uri": "https://localhost:8080/",
          "height": 35
        },
        "id": "qnlxctxkofVY",
        "outputId": "97869341-1a49-4d24-ad1a-24bdcf3607f1"
      },
      "execution_count": null,
      "outputs": [
        {
          "output_type": "execute_result",
          "data": {
            "text/plain": [
              "'S'"
            ],
            "application/vnd.google.colaboratory.intrinsic+json": {
              "type": "string"
            }
          },
          "metadata": {},
          "execution_count": 36
        }
      ]
    },
    {
      "cell_type": "code",
      "source": [
        "string[0] = \"F\""
      ],
      "metadata": {
        "colab": {
          "base_uri": "https://localhost:8080/",
          "height": 141
        },
        "id": "LxaFti0PoqX_",
        "outputId": "2ddfb23e-cfcb-4aca-a5d1-4482f5d448f9"
      },
      "execution_count": null,
      "outputs": [
        {
          "output_type": "error",
          "ename": "TypeError",
          "evalue": "'str' object does not support item assignment",
          "traceback": [
            "\u001b[0;31m---------------------------------------------------------------------------\u001b[0m",
            "\u001b[0;31mTypeError\u001b[0m                                 Traceback (most recent call last)",
            "\u001b[0;32m<ipython-input-37-7f1f517f5452>\u001b[0m in \u001b[0;36m<cell line: 0>\u001b[0;34m()\u001b[0m\n\u001b[0;32m----> 1\u001b[0;31m \u001b[0mstring\u001b[0m\u001b[0;34m[\u001b[0m\u001b[0;36m0\u001b[0m\u001b[0;34m]\u001b[0m \u001b[0;34m=\u001b[0m \u001b[0;34m\"F\"\u001b[0m\u001b[0;34m\u001b[0m\u001b[0;34m\u001b[0m\u001b[0m\n\u001b[0m",
            "\u001b[0;31mTypeError\u001b[0m: 'str' object does not support item assignment"
          ]
        }
      ]
    },
    {
      "cell_type": "code",
      "source": [
        "#Here we are going with List!!!\n",
        "list = [\"Shreya\",\"Sameer\"]\n",
        "print(list)"
      ],
      "metadata": {
        "colab": {
          "base_uri": "https://localhost:8080/"
        },
        "id": "umWLzhpIo1kV",
        "outputId": "bf9023ba-e09b-4844-f124-fc54524c63ca"
      },
      "execution_count": null,
      "outputs": [
        {
          "output_type": "stream",
          "name": "stdout",
          "text": [
            "['Shreya', 'Sameer']\n"
          ]
        }
      ]
    },
    {
      "cell_type": "code",
      "source": [
        "list[0]"
      ],
      "metadata": {
        "colab": {
          "base_uri": "https://localhost:8080/",
          "height": 35
        },
        "id": "i1Reb0N7pBEg",
        "outputId": "721d4c44-b516-4ee8-98ab-0d66085367d7"
      },
      "execution_count": null,
      "outputs": [
        {
          "output_type": "execute_result",
          "data": {
            "text/plain": [
              "'Shreya'"
            ],
            "application/vnd.google.colaboratory.intrinsic+json": {
              "type": "string"
            }
          },
          "metadata": {},
          "execution_count": 39
        }
      ]
    },
    {
      "cell_type": "code",
      "source": [
        "list[0] = \"Tanu\"\n",
        "print(list)"
      ],
      "metadata": {
        "colab": {
          "base_uri": "https://localhost:8080/"
        },
        "id": "Oq4Y-7KzpN3V",
        "outputId": "ac5be402-e066-421a-e508-14ed2e5496ce"
      },
      "execution_count": null,
      "outputs": [
        {
          "output_type": "stream",
          "name": "stdout",
          "text": [
            "['Tanu', 'Sameer']\n"
          ]
        }
      ]
    },
    {
      "cell_type": "markdown",
      "source": [
        "Question no. 7 Write a program to demonstrate the use of logical operators"
      ],
      "metadata": {
        "id": "H0xcv585q5d_"
      }
    },
    {
      "cell_type": "code",
      "source": [
        "# And Operation\n",
        "#Verify if a loan applicant meets both age and salary requirements.\n",
        "#Loan Applicant: Age 30, Salary 60000, Required Age 25, Required Salary 50000\n",
        "Loan_Applicant_Age =  30\n",
        "Salary = 60000\n",
        "if Loan_Applicant_Age >= 25 and Salary >=50000 :\n",
        "  print (\"yes\")\n",
        "else :\n",
        "  print(\"No\")"
      ],
      "metadata": {
        "id": "QN6Nt7oxn3NG",
        "colab": {
          "base_uri": "https://localhost:8080/"
        },
        "outputId": "5e1726ca-f421-4040-c856-6fed1f7b72be"
      },
      "execution_count": 1,
      "outputs": [
        {
          "output_type": "stream",
          "name": "stdout",
          "text": [
            "yes\n"
          ]
        }
      ]
    },
    {
      "cell_type": "code",
      "source": [
        "# and here is demonstration of OR operator\n",
        "#Check if an employee qualifies for overtime pay (weekend and extra hours).\n",
        "#Hours Worked: 10, Is Weekend: True\n",
        "day_of_the_week = (input(\"Enter the day of the week: \"))\n",
        "Working_hours = int(input(\"Enter the hours : \"))\n",
        "if day_of_the_week == \"sunday\" or  day_of_the_week == \"saturday\" :\n",
        "  print(\"You qualify for weekend overtime pay.\")\n",
        "elif Working_hours > 40:\n",
        "    print(\"You qualify for extra hours overtime pay.\")\n",
        "else:\n",
        "  print(\"You do not qualify for overtime pay.\")"
      ],
      "metadata": {
        "colab": {
          "base_uri": "https://localhost:8080/"
        },
        "id": "Xl8ssCDIsgJt",
        "outputId": "e719fbd1-5050-4611-ae8e-9e9577df1d50"
      },
      "execution_count": 2,
      "outputs": [
        {
          "output_type": "stream",
          "name": "stdout",
          "text": [
            "Enter the day of the week: sunday\n",
            "Enter the hours : 40\n",
            "You qualify for weekend overtime pay.\n"
          ]
        }
      ]
    },
    {
      "cell_type": "code",
      "source": [
        "# Not Operators\n",
        "print(40 != 56)\n"
      ],
      "metadata": {
        "colab": {
          "base_uri": "https://localhost:8080/"
        },
        "id": "NufIQEQ6s-eE",
        "outputId": "5cf2190d-6686-4225-c0ac-b15a0be1b6e0"
      },
      "execution_count": 6,
      "outputs": [
        {
          "output_type": "stream",
          "name": "stdout",
          "text": [
            "True\n"
          ]
        }
      ]
    },
    {
      "cell_type": "markdown",
      "source": [
        "Question no. 8 0 Write a Python program to convert user input from string to integer, float, and boolean types."
      ],
      "metadata": {
        "id": "UlNou2N1tkE5"
      }
    },
    {
      "cell_type": "code",
      "source": [
        "user_input = input(\"Enter the value: \")\n",
        "print(user_input)"
      ],
      "metadata": {
        "colab": {
          "base_uri": "https://localhost:8080/"
        },
        "id": "gAof2WcMt36t",
        "outputId": "6f3343ad-fa2d-4ba6-e287-771482893832"
      },
      "execution_count": 7,
      "outputs": [
        {
          "output_type": "stream",
          "name": "stdout",
          "text": [
            "Enter the value: 48\n",
            "48\n"
          ]
        }
      ]
    },
    {
      "cell_type": "code",
      "source": [
        "type(user_input)"
      ],
      "metadata": {
        "colab": {
          "base_uri": "https://localhost:8080/"
        },
        "id": "92NefpPXvJRl",
        "outputId": "5555940d-15ee-4562-cbf9-369c55eeaac6"
      },
      "execution_count": 8,
      "outputs": [
        {
          "output_type": "execute_result",
          "data": {
            "text/plain": [
              "str"
            ]
          },
          "metadata": {},
          "execution_count": 8
        }
      ]
    },
    {
      "cell_type": "code",
      "source": [
        "# Here we changing user input in to int\n",
        "user_input = int(user_input)\n",
        "print(user_input)"
      ],
      "metadata": {
        "colab": {
          "base_uri": "https://localhost:8080/"
        },
        "id": "CEFt0BgtvOp7",
        "outputId": "5adf462c-e993-4427-c7d8-b7678240e50c"
      },
      "execution_count": 10,
      "outputs": [
        {
          "output_type": "stream",
          "name": "stdout",
          "text": [
            "48\n"
          ]
        }
      ]
    },
    {
      "cell_type": "code",
      "source": [
        "type(user_input)"
      ],
      "metadata": {
        "colab": {
          "base_uri": "https://localhost:8080/"
        },
        "id": "WcqP_riPv3QU",
        "outputId": "0303e874-1347-4813-cd36-476ff8be6152"
      },
      "execution_count": 11,
      "outputs": [
        {
          "output_type": "execute_result",
          "data": {
            "text/plain": [
              "int"
            ]
          },
          "metadata": {},
          "execution_count": 11
        }
      ]
    },
    {
      "cell_type": "code",
      "source": [
        "# Here we changing user input in to float\n",
        "user_input = float (user_input)\n",
        "print(user_input)"
      ],
      "metadata": {
        "colab": {
          "base_uri": "https://localhost:8080/"
        },
        "id": "e2x62uh7v9dA",
        "outputId": "79ab6e3d-d007-4d76-df2c-236a5d126826"
      },
      "execution_count": 12,
      "outputs": [
        {
          "output_type": "stream",
          "name": "stdout",
          "text": [
            "48.0\n"
          ]
        }
      ]
    },
    {
      "cell_type": "code",
      "source": [
        "type(user_input)"
      ],
      "metadata": {
        "colab": {
          "base_uri": "https://localhost:8080/"
        },
        "id": "fna5060RwCfo",
        "outputId": "f326021a-ff99-49fa-c8de-913e1d80c5da"
      },
      "execution_count": 13,
      "outputs": [
        {
          "output_type": "execute_result",
          "data": {
            "text/plain": [
              "float"
            ]
          },
          "metadata": {},
          "execution_count": 13
        }
      ]
    },
    {
      "cell_type": "code",
      "source": [
        "# Here we changing user input in to float\n",
        "user_input = bool (user_input)\n",
        "print(user_input)"
      ],
      "metadata": {
        "colab": {
          "base_uri": "https://localhost:8080/"
        },
        "id": "BI1YLvuvwH71",
        "outputId": "5506b3ab-afb4-4f6d-c637-35e2e102e6b0"
      },
      "execution_count": 14,
      "outputs": [
        {
          "output_type": "stream",
          "name": "stdout",
          "text": [
            "True\n"
          ]
        }
      ]
    },
    {
      "cell_type": "code",
      "source": [
        "type(user_input)"
      ],
      "metadata": {
        "colab": {
          "base_uri": "https://localhost:8080/"
        },
        "id": "C9xxIq6gwMHr",
        "outputId": "66aca8f7-e04c-4303-c6e5-5ffee3e9e2d9"
      },
      "execution_count": 15,
      "outputs": [
        {
          "output_type": "execute_result",
          "data": {
            "text/plain": [
              "bool"
            ]
          },
          "metadata": {},
          "execution_count": 15
        }
      ]
    },
    {
      "cell_type": "markdown",
      "source": [
        "Question no. 9 Write code to demonstrate type casting with list elements"
      ],
      "metadata": {
        "id": "AQAMvgTbxNl_"
      }
    },
    {
      "cell_type": "code",
      "source": [
        "list = [1,2,3,4,5]\n",
        "print(list)\n",
        "list1 = tuple(list)\n",
        "print(list1)\n",
        "type(list1)"
      ],
      "metadata": {
        "colab": {
          "base_uri": "https://localhost:8080/"
        },
        "id": "lZ1QREWdxPP5",
        "outputId": "a5a07e43-018f-4e3e-cf04-72b8a4e9e2a4"
      },
      "execution_count": 22,
      "outputs": [
        {
          "output_type": "stream",
          "name": "stdout",
          "text": [
            "[1, 2, 3, 4, 5]\n",
            "(1, 2, 3, 4, 5)\n"
          ]
        },
        {
          "output_type": "execute_result",
          "data": {
            "text/plain": [
              "tuple"
            ]
          },
          "metadata": {},
          "execution_count": 22
        }
      ]
    },
    {
      "cell_type": "markdown",
      "source": [
        "Question no. 10 Write a program that checks if a number is positive, negative, or zero."
      ],
      "metadata": {
        "id": "IJ4OvhkFyuU8"
      }
    },
    {
      "cell_type": "code",
      "source": [
        "value = int(input(\"Enter the value : \"))\n",
        "if value > 0:\n",
        "  print(\"Number is positive!!!\")\n",
        "elif value < 0:\n",
        "  print (\"Number is negative!!!\")\n",
        "else:\n",
        "  print(\"Number is Zero!!!\")"
      ],
      "metadata": {
        "colab": {
          "base_uri": "https://localhost:8080/"
        },
        "id": "rknu4xQRy3k2",
        "outputId": "94dbd1a6-8ef5-4e1c-b816-29b6c6c44f14"
      },
      "execution_count": 27,
      "outputs": [
        {
          "output_type": "stream",
          "name": "stdout",
          "text": [
            "Enter the value : 0\n",
            "Number is Zero!!!\n"
          ]
        }
      ]
    },
    {
      "cell_type": "markdown",
      "source": [
        "Question no. 11  Write a for loop to print numbers from 1 to 10"
      ],
      "metadata": {
        "id": "fR_icM7o0Ght"
      }
    },
    {
      "cell_type": "code",
      "source": [
        "for i in range (1,11):\n",
        "  print(i, end=\" \")"
      ],
      "metadata": {
        "colab": {
          "base_uri": "https://localhost:8080/"
        },
        "id": "HWgvxuC50N0H",
        "outputId": "b8ba1ea6-6210-4bfc-ff6c-9a1c3eaec6a8"
      },
      "execution_count": 32,
      "outputs": [
        {
          "output_type": "stream",
          "name": "stdout",
          "text": [
            "1 2 3 4 5 6 7 8 9 10 "
          ]
        }
      ]
    },
    {
      "cell_type": "markdown",
      "source": [
        "Question 12 Write a Python program to find the sum of all even numbers between 1 and 50"
      ],
      "metadata": {
        "id": "DFVSfqHe1C8j"
      }
    },
    {
      "cell_type": "code",
      "source": [
        "sum=0\n",
        "for i in range (1,51):\n",
        "  if i % 2 ==0:\n",
        "   sum += i\n",
        "print(sum)"
      ],
      "metadata": {
        "colab": {
          "base_uri": "https://localhost:8080/"
        },
        "id": "Xgwl9fFM1FsR",
        "outputId": "152a9b55-e900-44e5-ddc8-4b9a7c3827d3"
      },
      "execution_count": 40,
      "outputs": [
        {
          "output_type": "stream",
          "name": "stdout",
          "text": [
            "650\n"
          ]
        }
      ]
    },
    {
      "cell_type": "markdown",
      "source": [
        "Question no. 13 0 Write a program to reverse a string using a while loop."
      ],
      "metadata": {
        "id": "mK51knCA7GUJ"
      }
    },
    {
      "cell_type": "code",
      "source": [
        "string = \"Shreya\"\n",
        "reverse =\" \"\n",
        "index = len(string)-1\n",
        "while index >= 0:\n",
        "    reverse += string[index]\n",
        "    index -= 1\n",
        "print(reverse)\n",
        "\n"
      ],
      "metadata": {
        "colab": {
          "base_uri": "https://localhost:8080/"
        },
        "id": "PB7Vagoj7N8-",
        "outputId": "799eb477-f75c-4027-9315-9685d32b93af"
      },
      "execution_count": 42,
      "outputs": [
        {
          "output_type": "stream",
          "name": "stdout",
          "text": [
            " ayerhS\n"
          ]
        }
      ]
    },
    {
      "cell_type": "markdown",
      "source": [
        "Question no. 14 Write a Python program to calculate the factorial of a number provided by the user using a while loop."
      ],
      "metadata": {
        "id": "ucNR36y2UpcU"
      }
    },
    {
      "cell_type": "code",
      "source": [
        "number = int(input(\"Enter a number: \"))\n",
        "\n",
        "# Initialize the factorial variable to 1\n",
        "factorial = 1\n",
        "\n",
        "# Initialize a counter variable\n",
        "counter = number\n",
        "\n",
        "# Use a while loop to calculate the factorial\n",
        "while counter > 0:\n",
        "    factorial *= counter\n",
        "    counter -= 1\n",
        "\n",
        "# Print the result\n",
        "print(f\"The factorial of {number} is {factorial}\")"
      ],
      "metadata": {
        "colab": {
          "base_uri": "https://localhost:8080/"
        },
        "id": "rCR90PfPU3HN",
        "outputId": "c6135814-0615-4c04-a6d0-0c982a8fe341"
      },
      "execution_count": 4,
      "outputs": [
        {
          "output_type": "stream",
          "name": "stdout",
          "text": [
            "Enter a number: 5\n",
            "The factorial of 5 is 120\n"
          ]
        }
      ]
    }
  ]
}